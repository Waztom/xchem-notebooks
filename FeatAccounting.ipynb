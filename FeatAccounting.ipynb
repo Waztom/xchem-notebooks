{
 "cells": [
  {
   "cell_type": "markdown",
   "metadata": {},
   "source": [
    "# Script to check accounting of features\n",
    "- Use John Chodera's .sdf of docked conformers of Moonshot subs\n",
    "- Get features of each compound\n",
    "- Compare to features for all the bits we get"
   ]
  },
  {
   "cell_type": "code",
   "execution_count": 1,
   "metadata": {},
   "outputs": [],
   "source": [
    "from rdkit.Chem import AllChem\n",
    "import os\n",
    "from rdkit import RDConfig\n",
    "from rdkit import Chem\n",
    "from rdkit.Chem.Lipinski import RotatableBondSmarts\n",
    "from rdkit.Chem import BRICS\n",
    "import numpy as np\n",
    "\n",
    "\n",
    "def getBits(mol):\n",
    "    '''\n",
    "\n",
    "    Parameters\n",
    "    ----------\n",
    "    mol : rdkit mol object to be broken up into fragments by breaking \n",
    "    rotable bonds\n",
    "\n",
    "    Returns\n",
    "    -------\n",
    "    mols : A list of rdkit mol objects\n",
    "\n",
    "    '''\n",
    "    # find the rotatable bonds\n",
    "    bonds = mol.GetSubstructMatches(RotatableBondSmarts)\n",
    "    \n",
    "    bonds = [((x,y),(0,0)) for x,y in bonds]\n",
    "    p = BRICS.BreakBRICSBonds(mol,bonds=bonds)\n",
    " \n",
    "    mols = [mol for mol in Chem.GetMolFrags(p,asMols=True)]\n",
    "    \n",
    "    return mols\n",
    "\n",
    "# Function to build feature maps and score feats\n",
    "fdef = AllChem.BuildFeatureFactory(os.path.join(RDConfig.RDDataDir, 'BaseFeatures.fdef'))\n",
    "\n",
    "keep = ('Donor', 'Acceptor', 'NegIonizable', 'PosIonizable', 'ZnBinder',\n",
    "        'Aromatic', 'Hydrophobe', 'LumpedHydrophobe')"
   ]
  },
  {
   "cell_type": "code",
   "execution_count": 2,
   "metadata": {},
   "outputs": [],
   "source": [
    "# Get the data - test missing features in JC's docking Moonshot compound set\n",
    "compound_mols = Chem.SDMolSupplier('in_data/covid_submissions_all_info-docked-overlap.sdf')"
   ]
  },
  {
   "cell_type": "code",
   "execution_count": 5,
   "metadata": {},
   "outputs": [],
   "source": [
    "# Let's compare each compounds features to it's bits\n",
    "# Creat test lists\n",
    "numb_feats_missing = []\n",
    "all_feats = []\n",
    "\n",
    "for compound in compound_mols:    \n",
    "    # Create empty feature, x,y,z lists\n",
    "    compound_feat_list = []\n",
    "    bits_feat_list = []\n",
    "    \n",
    "    # Get compound bits\n",
    "    bits = getBits(compound)\n",
    "    \n",
    "    # Get features of compound\n",
    "    compound_feats = []\n",
    "    rawFeats = fdef.GetFeaturesForMol(compound)\n",
    "    \n",
    "    # Filter that list down to only include the ones we're intereted in\n",
    "    compound_feats.append([f for f in rawFeats if f.GetFamily() in keep])\n",
    "    \n",
    "    # Get features of bits\n",
    "    bit_feats = []\n",
    "    for bit in bits:\n",
    "        rawFeats = fdef.GetFeaturesForMol(bit)\n",
    "        # Filter that list down to only include the ones we're intereted in\n",
    "        bit_feats.append([f for f in rawFeats if f.GetFamily() in keep])\n",
    "    \n",
    "    # Need to get compounds features and x,y,z coordinate lists\n",
    "    for feat in compound_feats[0]:\n",
    "        compound_feat_list.append((feat.GetType(), feat.GetPos().x, feat.GetPos().y, feat.GetPos().z))\n",
    "    \n",
    "    # Get bits features and x,y,z coordinate lists\n",
    "    for feat_bit in bit_feats:\n",
    "        for feat in feat_bit:\n",
    "            bits_feat_list.append((feat.GetType(), feat.GetPos().x, feat.GetPos().y, feat.GetPos().z))\n",
    "          \n",
    "    # What featuress are missing?\n",
    "    missing_feats = [elem for elem in compound_feat_list if elem not in bits_feat_list]\n",
    "        \n",
    "    # Whats the total story - count missing features and the number of expected compound features\n",
    "    numb_feats_missing.append(len(missing_feats))\n",
    "    all_feats.append(len(compound_feat_list))"
   ]
  },
  {
   "cell_type": "code",
   "execution_count": 7,
   "metadata": {},
   "outputs": [
    {
     "data": {
      "text/plain": [
       "3.1626703354297696"
      ]
     },
     "execution_count": 7,
     "metadata": {},
     "output_type": "execute_result"
    }
   ],
   "source": [
    "# Overall percent misisng\n",
    "(np.sum(numb_feats_missing) / np.sum(all_feats)) * 100"
   ]
  }
 ],
 "metadata": {
  "kernelspec": {
   "display_name": "Python 3",
   "language": "python",
   "name": "python3"
  },
  "language_info": {
   "codemirror_mode": {
    "name": "ipython",
    "version": 3
   },
   "file_extension": ".py",
   "mimetype": "text/x-python",
   "name": "python",
   "nbconvert_exporter": "python",
   "pygments_lexer": "ipython3",
   "version": "3.6.10"
  }
 },
 "nbformat": 4,
 "nbformat_minor": 4
}

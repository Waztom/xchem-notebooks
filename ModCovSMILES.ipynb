{
 "cells": [
  {
   "cell_type": "code",
   "execution_count": 6,
   "metadata": {},
   "outputs": [
    {
     "name": "stderr",
     "output_type": "stream",
     "text": [
      "Traceback (most recent call last):\n",
      "  File \"/home/warren/miniconda3/envs/cheminfo/lib/python3.6/site-packages/rdkit/Chem/PandasTools.py\", line 130, in <module>\n",
      "    if 'display.width' in pd.core.config._registered_options:\n",
      "AttributeError: module 'pandas.core' has no attribute 'config'\n"
     ]
    }
   ],
   "source": [
    "import pandas as pd\n",
    "from rdkit import Chem\n",
    "from rdkit.Chem import AllChem\n",
    "from rdkit.Chem import Draw\n",
    "from rdkit.Chem import rdChemReactions\n",
    "from rdkit.Chem import PandasTools"
   ]
  },
  {
   "cell_type": "code",
   "execution_count": 2,
   "metadata": {},
   "outputs": [],
   "source": [
    "# Let's read in the file\n",
    "input_df = pd.read_excel('in_data/convert_covalents/Test_1.xlsx')"
   ]
  },
  {
   "cell_type": "code",
   "execution_count": 3,
   "metadata": {},
   "outputs": [
    {
     "data": {
      "text/html": [
       "<div>\n",
       "<style scoped>\n",
       "    .dataframe tbody tr th:only-of-type {\n",
       "        vertical-align: middle;\n",
       "    }\n",
       "\n",
       "    .dataframe tbody tr th {\n",
       "        vertical-align: top;\n",
       "    }\n",
       "\n",
       "    .dataframe thead th {\n",
       "        text-align: right;\n",
       "    }\n",
       "</style>\n",
       "<table border=\"1\" class=\"dataframe\">\n",
       "  <thead>\n",
       "    <tr style=\"text-align: right;\">\n",
       "      <th></th>\n",
       "      <th>Catalog ID</th>\n",
       "      <th>MW SAMPLE</th>\n",
       "      <th>purity</th>\n",
       "      <th>saltname</th>\n",
       "      <th>MW SALT</th>\n",
       "      <th>Concentration, mM</th>\n",
       "      <th>Volume</th>\n",
       "      <th>Plate Id</th>\n",
       "      <th>Well</th>\n",
       "      <th>SMILES</th>\n",
       "      <th>sminame</th>\n",
       "      <th>Covalent</th>\n",
       "    </tr>\n",
       "  </thead>\n",
       "  <tbody>\n",
       "    <tr>\n",
       "      <th>0</th>\n",
       "      <td>Z102622686</td>\n",
       "      <td>373.42</td>\n",
       "      <td>97.29</td>\n",
       "      <td>NaN</td>\n",
       "      <td>0.00</td>\n",
       "      <td>50</td>\n",
       "      <td>4 uL</td>\n",
       "      <td>1166137-Y4-01</td>\n",
       "      <td>X05</td>\n",
       "      <td>CS(=O)(=O)NC=1C=CC=C(C1)C(=O)NC=2C=CC=C(C2)N3C...</td>\n",
       "      <td>3-methanesulfonamido-N-[3-(2-oxopyrrolidin-1-y...</td>\n",
       "      <td>NaN</td>\n",
       "    </tr>\n",
       "    <tr>\n",
       "      <th>1</th>\n",
       "      <td>Z102844650</td>\n",
       "      <td>376.85</td>\n",
       "      <td>NaN</td>\n",
       "      <td>hydrogen chloride</td>\n",
       "      <td>36.46</td>\n",
       "      <td>50</td>\n",
       "      <td>4 uL</td>\n",
       "      <td>1166137-Y4-01</td>\n",
       "      <td>M06</td>\n",
       "      <td>Cl.CC(=O)N1CCN(CC(=O)NC=2C=CC=C(C2)S(=O)(=O)N)CC1</td>\n",
       "      <td>2-(4-acetylpiperazin-1-yl)-N-(3-sulfamoylpheny...</td>\n",
       "      <td>NaN</td>\n",
       "    </tr>\n",
       "    <tr>\n",
       "      <th>2</th>\n",
       "      <td>Z104476830</td>\n",
       "      <td>285.33</td>\n",
       "      <td>100.00</td>\n",
       "      <td>NaN</td>\n",
       "      <td>0.00</td>\n",
       "      <td>50</td>\n",
       "      <td>4 uL</td>\n",
       "      <td>1166137-Y4-01</td>\n",
       "      <td>AB05</td>\n",
       "      <td>O=C(C=CC=CC=1C=CC=2OCOC2C1)N3CCCCC3</td>\n",
       "      <td>5-(2H-1,3-benzodioxol-5-yl)-1-(piperidin-1-yl)...</td>\n",
       "      <td>Y</td>\n",
       "    </tr>\n",
       "    <tr>\n",
       "      <th>3</th>\n",
       "      <td>Z1129289650</td>\n",
       "      <td>260.71</td>\n",
       "      <td>100.00</td>\n",
       "      <td>NaN</td>\n",
       "      <td>0.00</td>\n",
       "      <td>50</td>\n",
       "      <td>4 uL</td>\n",
       "      <td>1166137-Y4-01</td>\n",
       "      <td>M05</td>\n",
       "      <td>CC=1C=CN=CC1NC(=O)CC=2C=CC=C(Cl)C2</td>\n",
       "      <td>2-(3-chlorophenyl)-N-(4-methylpyridin-3-yl)ace...</td>\n",
       "      <td>NaN</td>\n",
       "    </tr>\n",
       "    <tr>\n",
       "      <th>4</th>\n",
       "      <td>Z1191880499</td>\n",
       "      <td>232.27</td>\n",
       "      <td>95.00</td>\n",
       "      <td>NaN</td>\n",
       "      <td>0.00</td>\n",
       "      <td>50</td>\n",
       "      <td>4 uL</td>\n",
       "      <td>1166137-Y4-01</td>\n",
       "      <td>F06</td>\n",
       "      <td>COC=1C=CC=2NC=C(CCNC(=O)C)C2C1</td>\n",
       "      <td>N-[2-(5-methoxy-1H-indol-3-yl)ethyl]acetamide</td>\n",
       "      <td>NaN</td>\n",
       "    </tr>\n",
       "  </tbody>\n",
       "</table>\n",
       "</div>"
      ],
      "text/plain": [
       "    Catalog ID  MW SAMPLE  purity           saltname  MW SALT  \\\n",
       "0   Z102622686     373.42   97.29                NaN     0.00   \n",
       "1   Z102844650     376.85     NaN  hydrogen chloride    36.46   \n",
       "2   Z104476830     285.33  100.00                NaN     0.00   \n",
       "3  Z1129289650     260.71  100.00                NaN     0.00   \n",
       "4  Z1191880499     232.27   95.00                NaN     0.00   \n",
       "\n",
       "  Concentration, mM Volume       Plate Id  Well  \\\n",
       "0                50   4 uL  1166137-Y4-01   X05   \n",
       "1                50   4 uL  1166137-Y4-01   M06   \n",
       "2                50   4 uL  1166137-Y4-01  AB05   \n",
       "3                50   4 uL  1166137-Y4-01   M05   \n",
       "4                50   4 uL  1166137-Y4-01   F06   \n",
       "\n",
       "                                              SMILES  \\\n",
       "0  CS(=O)(=O)NC=1C=CC=C(C1)C(=O)NC=2C=CC=C(C2)N3C...   \n",
       "1  Cl.CC(=O)N1CCN(CC(=O)NC=2C=CC=C(C2)S(=O)(=O)N)CC1   \n",
       "2                O=C(C=CC=CC=1C=CC=2OCOC2C1)N3CCCCC3   \n",
       "3                 CC=1C=CN=CC1NC(=O)CC=2C=CC=C(Cl)C2   \n",
       "4                     COC=1C=CC=2NC=C(CCNC(=O)C)C2C1   \n",
       "\n",
       "                                             sminame Covalent  \n",
       "0  3-methanesulfonamido-N-[3-(2-oxopyrrolidin-1-y...      NaN  \n",
       "1  2-(4-acetylpiperazin-1-yl)-N-(3-sulfamoylpheny...      NaN  \n",
       "2  5-(2H-1,3-benzodioxol-5-yl)-1-(piperidin-1-yl)...        Y  \n",
       "3  2-(3-chlorophenyl)-N-(4-methylpyridin-3-yl)ace...      NaN  \n",
       "4      N-[2-(5-methoxy-1H-indol-3-yl)ethyl]acetamide      NaN  "
      ]
     },
     "execution_count": 3,
     "metadata": {},
     "output_type": "execute_result"
    }
   ],
   "source": [
    "input_df.head()"
   ]
  },
  {
   "cell_type": "code",
   "execution_count": 13,
   "metadata": {},
   "outputs": [],
   "source": [
    "compound_mols = [Chem.MolFromSmiles(smi) for smi in input_df.SMILES]\n",
    "compound_smi = [Chem.MolToSmiles(mol) for mol in compound_mols ]"
   ]
  },
  {
   "cell_type": "code",
   "execution_count": 14,
   "metadata": {},
   "outputs": [],
   "source": [
    "# Insert rdkit SMILES back into df\n",
    "input_df['SMILES'] = compound_smi"
   ]
  },
  {
   "cell_type": "code",
   "execution_count": 15,
   "metadata": {},
   "outputs": [
    {
     "ename": "AttributeError",
     "evalue": "'NoneType' object has no attribute 'core'",
     "output_type": "error",
     "traceback": [
      "\u001b[0;31m----------------------------------------------------------------------\u001b[0m",
      "\u001b[0;31mAttributeError\u001b[0m                       Traceback (most recent call last)",
      "\u001b[0;32m<ipython-input-15-dedbeaf1f7d0>\u001b[0m in \u001b[0;36m<module>\u001b[0;34m\u001b[0m\n\u001b[1;32m      1\u001b[0m \u001b[0;31m# Add mols to df\u001b[0m\u001b[0;34m\u001b[0m\u001b[0;34m\u001b[0m\u001b[0;34m\u001b[0m\u001b[0m\n\u001b[0;32m----> 2\u001b[0;31m \u001b[0mPandasTools\u001b[0m\u001b[0;34m.\u001b[0m\u001b[0mAddMoleculeColumnToFrame\u001b[0m\u001b[0;34m(\u001b[0m\u001b[0minput_df\u001b[0m\u001b[0;34m,\u001b[0m \u001b[0msmilesCol\u001b[0m\u001b[0;34m=\u001b[0m\u001b[0;34m'SMILES'\u001b[0m\u001b[0;34m,\u001b[0m \u001b[0mmolCol\u001b[0m\u001b[0;34m=\u001b[0m\u001b[0;34m'Orig_SMILES'\u001b[0m\u001b[0;34m)\u001b[0m\u001b[0;34m\u001b[0m\u001b[0;34m\u001b[0m\u001b[0m\n\u001b[0m",
      "\u001b[0;32m~/miniconda3/envs/cheminfo/lib/python3.6/site-packages/rdkit/Chem/PandasTools.py\u001b[0m in \u001b[0;36mAddMoleculeColumnToFrame\u001b[0;34m(frame, smilesCol, molCol, includeFingerprints)\u001b[0m\n\u001b[1;32m    298\u001b[0m     frame[molCol] = frame[smilesCol].map(\n\u001b[1;32m    299\u001b[0m       lambda smiles: _MolPlusFingerprint(Chem.MolFromSmiles(smiles)))\n\u001b[0;32m--> 300\u001b[0;31m   \u001b[0mRenderImagesInAllDataFrames\u001b[0m\u001b[0;34m(\u001b[0m\u001b[0mimages\u001b[0m\u001b[0;34m=\u001b[0m\u001b[0;32mTrue\u001b[0m\u001b[0;34m)\u001b[0m\u001b[0;34m\u001b[0m\u001b[0;34m\u001b[0m\u001b[0m\n\u001b[0m\u001b[1;32m    301\u001b[0m \u001b[0;34m\u001b[0m\u001b[0m\n\u001b[1;32m    302\u001b[0m \u001b[0;34m\u001b[0m\u001b[0m\n",
      "\u001b[0;32m~/miniconda3/envs/cheminfo/lib/python3.6/site-packages/rdkit/Chem/PandasTools.py\u001b[0m in \u001b[0;36mRenderImagesInAllDataFrames\u001b[0;34m(images)\u001b[0m\n\u001b[1;32m    282\u001b[0m   '''\n\u001b[1;32m    283\u001b[0m   \u001b[0;32mif\u001b[0m \u001b[0mimages\u001b[0m\u001b[0;34m:\u001b[0m\u001b[0;34m\u001b[0m\u001b[0;34m\u001b[0m\u001b[0m\n\u001b[0;32m--> 284\u001b[0;31m     \u001b[0mpd\u001b[0m\u001b[0;34m.\u001b[0m\u001b[0mcore\u001b[0m\u001b[0;34m.\u001b[0m\u001b[0mframe\u001b[0m\u001b[0;34m.\u001b[0m\u001b[0mDataFrame\u001b[0m\u001b[0;34m.\u001b[0m\u001b[0mto_html\u001b[0m \u001b[0;34m=\u001b[0m \u001b[0mpatchPandasHTMLrepr\u001b[0m\u001b[0;34m\u001b[0m\u001b[0;34m\u001b[0m\u001b[0m\n\u001b[0m\u001b[1;32m    285\u001b[0m   \u001b[0;32melse\u001b[0m\u001b[0;34m:\u001b[0m\u001b[0;34m\u001b[0m\u001b[0;34m\u001b[0m\u001b[0m\n\u001b[1;32m    286\u001b[0m     \u001b[0mpd\u001b[0m\u001b[0;34m.\u001b[0m\u001b[0mcore\u001b[0m\u001b[0;34m.\u001b[0m\u001b[0mframe\u001b[0m\u001b[0;34m.\u001b[0m\u001b[0mDataFrame\u001b[0m\u001b[0;34m.\u001b[0m\u001b[0mto_html\u001b[0m \u001b[0;34m=\u001b[0m \u001b[0mdefPandasRendering\u001b[0m\u001b[0;34m\u001b[0m\u001b[0;34m\u001b[0m\u001b[0m\n",
      "\u001b[0;31mAttributeError\u001b[0m: 'NoneType' object has no attribute 'core'"
     ]
    }
   ],
   "source": [
    "# Add mols to df\n",
    "PandasTools.AddMoleculeColumnToFrame(input_df, smilesCol='SMILES', molCol='Orig_SMILES')"
   ]
  },
  {
   "cell_type": "code",
   "execution_count": 5,
   "metadata": {},
   "outputs": [],
   "source": [
    "# Let's define some covalent structures that we can use to search for covalents and replace with \n",
    "# Make a dictionary of colavent bitsas SMARTS (key) and the SMARTS transformation (value) we'd like to use\n",
    "# Order dictionary in order of reactivity - have only done this for the chloroacetamides vs nitriles here\n",
    "cov_dict = {\"[*:1]-[#7]-[#6](=O)-[#6](-[*:2])=[#6]\":\"[*:1]-[#7]-[#6](=O)-[#6](-[*:2])=[#6]>>[*:1]-[#7]-[#6](=O)-[#6](-[*:2])-[#6]\",\n",
    "            \"[#7]([*:1])([*:2])-[#6](=O)-[#6]-[Cl:3]\":\"[#7]([*:1])([*:2])-[#6](=O)-[#6]-[Cl:3]>>[#7]([*:1])([*:2])-[#6](=O)-[#6]\",\n",
    "            \"[*:1]-[#6](=O)-[#7]-[#6]-[#6]#[#7]\":\"[*:1]-[#6](=O)-[#7]-[#6]-[#6]#[#6]>>[*:1]-[#6](=O)-[#7]-[#6]-[#6]=[#6]\",\n",
    "            \"[a:1]-[#6]#[#7]\":\"[a:1]-[#6]#[#7]>>[a:1]-[#6]=[#7]\"}\n"
   ]
  },
  {
   "cell_type": "code",
   "execution_count": 602,
   "metadata": {},
   "outputs": [],
   "source": [
    "mod_smiles = []\n",
    "\n",
    "for mol in compound_mols:\n",
    "    for key, value in cov_dict.items():\n",
    "        patt = Chem.MolFromSmarts(key)     \n",
    "        try: \n",
    "            # Test is molecule has covalent bit we're looking for by substructure search\n",
    "            if mol.HasSubstructMatch(patt):\n",
    "                rxn = rdChemReactions.ReactionFromSmarts(value)\n",
    "                prod = rxn.RunReactants((mol,))\n",
    "                mod_smi = Chem.MolToSmiles(prod[0][0])\n",
    "                reac_smi = Chem.MolToSmiles(mol)\n",
    "                \n",
    "                # Let's just check if the chloroacetamide has already been found\n",
    "                # NB cov reaction dict is in order of reactivity \n",
    "                test_chloro = [smi[0] for smi in mod_smiles if smi[0] == reac_smi]\n",
    "                if len(test_chloro) == 0:\n",
    "                    mod_smiles.append((reac_smi,mod_smi))\n",
    "        except:\n",
    "            pass\n",
    "        "
   ]
  },
  {
   "cell_type": "code",
   "execution_count": 603,
   "metadata": {},
   "outputs": [],
   "source": [
    "# Create a df of the modified smiles output\n",
    "mod_smiles_df = pd.DataFrame(data=mod_smiles, columns=['SMILES','Modified_SMILES']) "
   ]
  },
  {
   "cell_type": "code",
   "execution_count": 604,
   "metadata": {},
   "outputs": [],
   "source": [
    "# Merge the input data and modified smiles dfs\n",
    "output_df = input_df.combine_first(mod_smiles_df)"
   ]
  },
  {
   "cell_type": "code",
   "execution_count": null,
   "metadata": {},
   "outputs": [],
   "source": []
  }
 ],
 "metadata": {
  "kernelspec": {
   "display_name": "Python 3",
   "language": "python",
   "name": "python3"
  },
  "language_info": {
   "codemirror_mode": {
    "name": "ipython",
    "version": 3
   },
   "file_extension": ".py",
   "mimetype": "text/x-python",
   "name": "python",
   "nbconvert_exporter": "python",
   "pygments_lexer": "ipython3",
   "version": "3.6.10"
  }
 },
 "nbformat": 4,
 "nbformat_minor": 4
}

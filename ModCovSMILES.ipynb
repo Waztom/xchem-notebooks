{
 "cells": [
  {
   "cell_type": "code",
   "execution_count": 22,
   "metadata": {},
   "outputs": [],
   "source": [
    "import pandas as pd\n",
    "from rdkit import Chem\n",
    "from rdkit.Chem import AllChem"
   ]
  },
  {
   "cell_type": "code",
   "execution_count": 23,
   "metadata": {},
   "outputs": [],
   "source": [
    "# Let's read in the file\n",
    "input_data = pd.read_csv('data/mod_covalent_smiles.csv')"
   ]
  },
  {
   "cell_type": "code",
   "execution_count": 24,
   "metadata": {},
   "outputs": [
    {
     "data": {
      "text/html": [
       "<div>\n",
       "<style scoped>\n",
       "    .dataframe tbody tr th:only-of-type {\n",
       "        vertical-align: middle;\n",
       "    }\n",
       "\n",
       "    .dataframe tbody tr th {\n",
       "        vertical-align: top;\n",
       "    }\n",
       "\n",
       "    .dataframe thead th {\n",
       "        text-align: right;\n",
       "    }\n",
       "</style>\n",
       "<table border=\"1\" class=\"dataframe\">\n",
       "  <thead>\n",
       "    <tr style=\"text-align: right;\">\n",
       "      <th></th>\n",
       "      <th>Library Plate</th>\n",
       "      <th>Source well</th>\n",
       "      <th>Library Name</th>\n",
       "      <th>SMILES</th>\n",
       "      <th>Modified SMILES</th>\n",
       "      <th>Code</th>\n",
       "      <th>Volume (ul)</th>\n",
       "      <th>Concentration (mM)</th>\n",
       "      <th>old_ID</th>\n",
       "      <th>covalent</th>\n",
       "    </tr>\n",
       "  </thead>\n",
       "  <tbody>\n",
       "    <tr>\n",
       "      <th>0</th>\n",
       "      <td>1181202-Y4-02</td>\n",
       "      <td>R05</td>\n",
       "      <td>shipment 6 - moonshot</td>\n",
       "      <td>C=C(C(=O)NC=1C=CC=CC1)C=2C=CC=NC2</td>\n",
       "      <td>CC(C(Nc1ccccc1)=O)c1cnccc1</td>\n",
       "      <td>BEN-DND-031a96cc-8</td>\n",
       "      <td>4</td>\n",
       "      <td>100</td>\n",
       "      <td>BEN-DND-031-8</td>\n",
       "      <td>NaN</td>\n",
       "    </tr>\n",
       "    <tr>\n",
       "      <th>1</th>\n",
       "      <td>1181202-Y4-02</td>\n",
       "      <td>O06</td>\n",
       "      <td>shipment 6 - moonshot</td>\n",
       "      <td>CN(C(=O)CC1=NOC=2C=CC=CC12)C=3C=CC(NC(=O)OC(C)...</td>\n",
       "      <td>CC(C)(C)OC(Nc(cc1)ccc1N(C)C(Cc1noc2c1cccc2)=O)=O</td>\n",
       "      <td>AAR-POS-8a4e0f60-9</td>\n",
       "      <td>4</td>\n",
       "      <td>100</td>\n",
       "      <td>s_22____12335866____132823</td>\n",
       "      <td>no</td>\n",
       "    </tr>\n",
       "    <tr>\n",
       "      <th>2</th>\n",
       "      <td>1181202-Y4-02</td>\n",
       "      <td>P05</td>\n",
       "      <td>shipment 6 - moonshot</td>\n",
       "      <td>CN(C)CC(=C)C(=O)N1CC(C=2C=CC=CC2)C=3C=CC=CC3C1</td>\n",
       "      <td>CC(CN(C)C)C(N(CC1c2ccccc2)Cc2c1cccc2)=O</td>\n",
       "      <td>REN-UFA-aaaed2d6-3</td>\n",
       "      <td>4</td>\n",
       "      <td>100</td>\n",
       "      <td>REN-UFA-aaa-3</td>\n",
       "      <td>NaN</td>\n",
       "    </tr>\n",
       "    <tr>\n",
       "      <th>3</th>\n",
       "      <td>1181202-Y4-02</td>\n",
       "      <td>C05</td>\n",
       "      <td>shipment 6 - moonshot</td>\n",
       "      <td>CC=1C=CC(=CC1)S(=O)(=O)NC2CCN(CC2)C(=O)CCl</td>\n",
       "      <td>CC(N(CC1)CCC1NS(c1ccc(C)cc1)(=O)=O)=O</td>\n",
       "      <td>WAR-XCH-79d12f6e-4</td>\n",
       "      <td>4</td>\n",
       "      <td>100</td>\n",
       "      <td>WAR-XCH-79d-4</td>\n",
       "      <td>NaN</td>\n",
       "    </tr>\n",
       "    <tr>\n",
       "      <th>4</th>\n",
       "      <td>1181202-Y4-02</td>\n",
       "      <td>E05</td>\n",
       "      <td>shipment 6 - moonshot</td>\n",
       "      <td>ClCC(=O)N1CCN(CC1)S(=O)(=O)C=2C=CSC2</td>\n",
       "      <td>CC(N(CC1)CCN1S(c1cscc1)(=O)=O)=O</td>\n",
       "      <td>MAT-POS-ee51dedd-2</td>\n",
       "      <td>4</td>\n",
       "      <td>100</td>\n",
       "      <td>MAK-UNK-643-10</td>\n",
       "      <td>NaN</td>\n",
       "    </tr>\n",
       "  </tbody>\n",
       "</table>\n",
       "</div>"
      ],
      "text/plain": [
       "   Library Plate Source well           Library Name  \\\n",
       "0  1181202-Y4-02         R05  shipment 6 - moonshot   \n",
       "1  1181202-Y4-02         O06  shipment 6 - moonshot   \n",
       "2  1181202-Y4-02         P05  shipment 6 - moonshot   \n",
       "3  1181202-Y4-02         C05  shipment 6 - moonshot   \n",
       "4  1181202-Y4-02         E05  shipment 6 - moonshot   \n",
       "\n",
       "                                              SMILES  \\\n",
       "0                  C=C(C(=O)NC=1C=CC=CC1)C=2C=CC=NC2   \n",
       "1  CN(C(=O)CC1=NOC=2C=CC=CC12)C=3C=CC(NC(=O)OC(C)...   \n",
       "2     CN(C)CC(=C)C(=O)N1CC(C=2C=CC=CC2)C=3C=CC=CC3C1   \n",
       "3         CC=1C=CC(=CC1)S(=O)(=O)NC2CCN(CC2)C(=O)CCl   \n",
       "4               ClCC(=O)N1CCN(CC1)S(=O)(=O)C=2C=CSC2   \n",
       "\n",
       "                                    Modified SMILES                Code  \\\n",
       "0                        CC(C(Nc1ccccc1)=O)c1cnccc1  BEN-DND-031a96cc-8   \n",
       "1  CC(C)(C)OC(Nc(cc1)ccc1N(C)C(Cc1noc2c1cccc2)=O)=O  AAR-POS-8a4e0f60-9   \n",
       "2           CC(CN(C)C)C(N(CC1c2ccccc2)Cc2c1cccc2)=O  REN-UFA-aaaed2d6-3   \n",
       "3             CC(N(CC1)CCC1NS(c1ccc(C)cc1)(=O)=O)=O  WAR-XCH-79d12f6e-4   \n",
       "4                  CC(N(CC1)CCN1S(c1cscc1)(=O)=O)=O  MAT-POS-ee51dedd-2   \n",
       "\n",
       "   Volume (ul)  Concentration (mM)                      old_ID covalent  \n",
       "0            4                 100               BEN-DND-031-8      NaN  \n",
       "1            4                 100  s_22____12335866____132823       no  \n",
       "2            4                 100               REN-UFA-aaa-3      NaN  \n",
       "3            4                 100               WAR-XCH-79d-4      NaN  \n",
       "4            4                 100              MAK-UNK-643-10      NaN  "
      ]
     },
     "execution_count": 24,
     "metadata": {},
     "output_type": "execute_result"
    }
   ],
   "source": [
    "input_data.head()"
   ]
  },
  {
   "cell_type": "code",
   "execution_count": 25,
   "metadata": {},
   "outputs": [],
   "source": [
    "compound_mols = [Chem.MolFromSmiles(smi) for smi in input_data.SMILES]"
   ]
  },
  {
   "cell_type": "code",
   "execution_count": 26,
   "metadata": {},
   "outputs": [],
   "source": [
    "# Let's define some covalent structures that we can use to search for covalents and replace with \n",
    "# Make a dictionary of colavent bits (key) and the transformation (value) we'd like\n",
    "cov_dict = {\"[$([#1,*])]-[#7]-[#6](=O)-[#6](-[$([#1,*])])=[#6]\":\"[#6]-[#6](-[$([#1,*])])-[#6](=O)-[#7]-[$([#1,*])]\",\n",
    "           \"[$([#1,*])]-[#7]-[#6](=O)-[#6]=[#6]\":\"[#6]-[#6]-[#6](=O)-[#7]-[$([#1,*])]\",\n",
    "           \"Cl[#6]-[#6](=O)-[#7]-[$([#1,*])]\":\"[#6]-[#6](=O)-[#7]-[$([#1,*])]\",\n",
    "           \"[#6]-[#6](=O)-[#7]-[#6]C#C\":\"[$([#1,*])]-[#6](=O)-[#7]-[#6]-[#6]=[#6]\",\n",
    "           \"[Ar]C#N\":\"[Ar][#6]=[#7]\"}\n",
    "\n"
   ]
  },
  {
   "cell_type": "code",
   "execution_count": 47,
   "metadata": {},
   "outputs": [],
   "source": [
    "mod_smiles = []\n",
    "\n",
    "for mol in compound_mols:\n",
    "    for key, value in cov_dict.items():\n",
    "        patt = Chem.MolFromSmarts(key)\n",
    "        repl = Chem.MolFromSmiles(value)\n",
    "        try:\n",
    "            rms = AllChem.ReplaceSubstructs(mol,patt,repl)\n",
    "            smi = Chem.MolToSmiles(rms)\n",
    "            mod_smiles.append(smi)\n",
    "        except:\n",
    "            pass"
   ]
  },
  {
   "cell_type": "code",
   "execution_count": 48,
   "metadata": {},
   "outputs": [
    {
     "data": {
      "text/plain": [
       "[]"
      ]
     },
     "execution_count": 48,
     "metadata": {},
     "output_type": "execute_result"
    }
   ],
   "source": [
    "mod_smiles"
   ]
  },
  {
   "cell_type": "code",
   "execution_count": 29,
   "metadata": {},
   "outputs": [
    {
     "data": {
      "text/plain": [
       "True"
      ]
     },
     "execution_count": 29,
     "metadata": {},
     "output_type": "execute_result"
    }
   ],
   "source": [
    "patt = Chem.MolFromSmarts(\"[$([#1,*])]-[#7]-[#6](=O)-[#6](-[$([#1,*])])=[#6]\")\n",
    "compound_mols[0].HasSubstructMatch(patt)"
   ]
  },
  {
   "cell_type": "code",
   "execution_count": 30,
   "metadata": {},
   "outputs": [],
   "source": [
    "repl = Chem.MolFromSmarts(\"[#6]-[#6](-[$([#1,*])])-[#6](=O)-[#7]-[$([#1,*])]\")"
   ]
  },
  {
   "cell_type": "code",
   "execution_count": 32,
   "metadata": {},
   "outputs": [],
   "source": [
    "rms  = AllChem.ReplaceSubstructs(compound_mols[0],patt,repl)"
   ]
  },
  {
   "cell_type": "code",
   "execution_count": 35,
   "metadata": {},
   "outputs": [
    {
     "data": {
      "text/plain": [
       "'[*]NC(=O)C([*])c1ccccc1.cccnc'"
      ]
     },
     "execution_count": 35,
     "metadata": {},
     "output_type": "execute_result"
    }
   ],
   "source": [
    "Chem.MolToSmiles(rms[0])  "
   ]
  },
  {
   "cell_type": "code",
   "execution_count": null,
   "metadata": {},
   "outputs": [],
   "source": []
  }
 ],
 "metadata": {
  "kernelspec": {
   "display_name": "Python 3",
   "language": "python",
   "name": "python3"
  },
  "language_info": {
   "codemirror_mode": {
    "name": "ipython",
    "version": 3
   },
   "file_extension": ".py",
   "mimetype": "text/x-python",
   "name": "python",
   "nbconvert_exporter": "python",
   "pygments_lexer": "ipython3",
   "version": "3.6.10"
  }
 },
 "nbformat": 4,
 "nbformat_minor": 4
}

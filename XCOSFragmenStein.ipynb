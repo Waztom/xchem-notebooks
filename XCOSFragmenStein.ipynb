{
 "cells": [
  {
   "cell_type": "markdown",
   "metadata": {},
   "source": [
    "### Compare Fragmenstein and XCOS scores"
   ]
  },
  {
   "cell_type": "code",
   "execution_count": 1,
   "metadata": {},
   "outputs": [],
   "source": [
    "from rdkit import Chem\n",
    "import pandas as pd\n",
    "import numpy as np\n",
    "# Import Matteo's Fragmenstein data Pandastools was being an arse....\n",
    "frag_sd = Chem.SDMolSupplier('in_data/compare_xcos_fragmenstein/Fragmenstein_permissive_rescored_20200609.sdf')"
   ]
  },
  {
   "cell_type": "code",
   "execution_count": 2,
   "metadata": {},
   "outputs": [],
   "source": [
    "frag_results = []\n",
    "for mol in frag_sd:\n",
    "    try:\n",
    "        frag_results.append((mol.GetProp('_Name'),mol.GetProp('∆∆G'),mol.GetProp('%Rank'),mol.GetProp('comRMSD')))\n",
    "    except:\n",
    "        continue\n",
    "\n",
    "frag_df = pd.DataFrame(frag_results[1:],columns=['Name','DeltaG','Rank','comRMSD'])\n"
   ]
  },
  {
   "cell_type": "code",
   "execution_count": 3,
   "metadata": {},
   "outputs": [
    {
     "data": {
      "text/html": [
       "<div>\n",
       "<style scoped>\n",
       "    .dataframe tbody tr th:only-of-type {\n",
       "        vertical-align: middle;\n",
       "    }\n",
       "\n",
       "    .dataframe tbody tr th {\n",
       "        vertical-align: top;\n",
       "    }\n",
       "\n",
       "    .dataframe thead th {\n",
       "        text-align: right;\n",
       "    }\n",
       "</style>\n",
       "<table border=\"1\" class=\"dataframe\">\n",
       "  <thead>\n",
       "    <tr style=\"text-align: right;\">\n",
       "      <th></th>\n",
       "      <th>Name</th>\n",
       "      <th>DeltaG</th>\n",
       "      <th>Rank</th>\n",
       "      <th>comRMSD</th>\n",
       "    </tr>\n",
       "  </thead>\n",
       "  <tbody>\n",
       "    <tr>\n",
       "      <th>0</th>\n",
       "      <td>FRA-DIA-8640f307-1</td>\n",
       "      <td>-15.551701</td>\n",
       "      <td>0.014188</td>\n",
       "      <td>0.62586</td>\n",
       "    </tr>\n",
       "    <tr>\n",
       "      <th>1</th>\n",
       "      <td>FRA-DIA-8640f307-2</td>\n",
       "      <td>-14.355297</td>\n",
       "      <td>0.028377</td>\n",
       "      <td>0.855771</td>\n",
       "    </tr>\n",
       "    <tr>\n",
       "      <th>2</th>\n",
       "      <td>SIM-SYN-a98e6a07-1</td>\n",
       "      <td>-11.046305</td>\n",
       "      <td>0.042565</td>\n",
       "      <td>0.45284</td>\n",
       "    </tr>\n",
       "    <tr>\n",
       "      <th>3</th>\n",
       "      <td>DAV-CRI-f9b12666-9-nitrile</td>\n",
       "      <td>-11.238756</td>\n",
       "      <td>0.056754</td>\n",
       "      <td>0.853052</td>\n",
       "    </tr>\n",
       "    <tr>\n",
       "      <th>4</th>\n",
       "      <td>DAV-CRI-f9b12666-8-nitrile</td>\n",
       "      <td>-12.12691</td>\n",
       "      <td>0.070942</td>\n",
       "      <td>0.753703</td>\n",
       "    </tr>\n",
       "  </tbody>\n",
       "</table>\n",
       "</div>"
      ],
      "text/plain": [
       "                         Name      DeltaG      Rank   comRMSD\n",
       "0          FRA-DIA-8640f307-1  -15.551701  0.014188   0.62586\n",
       "1          FRA-DIA-8640f307-2  -14.355297  0.028377  0.855771\n",
       "2          SIM-SYN-a98e6a07-1  -11.046305  0.042565   0.45284\n",
       "3  DAV-CRI-f9b12666-9-nitrile  -11.238756  0.056754  0.853052\n",
       "4  DAV-CRI-f9b12666-8-nitrile   -12.12691  0.070942  0.753703"
      ]
     },
     "execution_count": 3,
     "metadata": {},
     "output_type": "execute_result"
    }
   ],
   "source": [
    "frag_df.head()"
   ]
  },
  {
   "cell_type": "code",
   "execution_count": 4,
   "metadata": {},
   "outputs": [],
   "source": [
    "# Import XCOS data\n",
    "xcos_sd = Chem.SDMolSupplier('in_data/compare_xcos_fragmenstein/xCOS_Teo_2020-07-07.sdf')"
   ]
  },
  {
   "cell_type": "code",
   "execution_count": 5,
   "metadata": {},
   "outputs": [],
   "source": [
    "xcos_results = []\n",
    "for mol in xcos_sd:\n",
    "    try:\n",
    "        xcos_results.append((mol.GetProp('_Name'),mol.GetProp('Score_1'),mol.GetProp('Score_2'),mol.GetProp('Score_3')))\n",
    "    except:\n",
    "        continue\n",
    "xcos_df = pd.DataFrame(xcos_results[1:],columns=['Name','Score1','Score2','Score3'])"
   ]
  },
  {
   "cell_type": "code",
   "execution_count": 6,
   "metadata": {},
   "outputs": [
    {
     "data": {
      "text/html": [
       "<div>\n",
       "<style scoped>\n",
       "    .dataframe tbody tr th:only-of-type {\n",
       "        vertical-align: middle;\n",
       "    }\n",
       "\n",
       "    .dataframe tbody tr th {\n",
       "        vertical-align: top;\n",
       "    }\n",
       "\n",
       "    .dataframe thead th {\n",
       "        text-align: right;\n",
       "    }\n",
       "</style>\n",
       "<table border=\"1\" class=\"dataframe\">\n",
       "  <thead>\n",
       "    <tr style=\"text-align: right;\">\n",
       "      <th></th>\n",
       "      <th>Name</th>\n",
       "      <th>Score1</th>\n",
       "      <th>Score2</th>\n",
       "      <th>Score3</th>\n",
       "    </tr>\n",
       "  </thead>\n",
       "  <tbody>\n",
       "    <tr>\n",
       "      <th>0</th>\n",
       "      <td>FRA-DIA-8640f307-1</td>\n",
       "      <td>47.7377</td>\n",
       "      <td>4.3646</td>\n",
       "      <td>0.0914</td>\n",
       "    </tr>\n",
       "    <tr>\n",
       "      <th>1</th>\n",
       "      <td>FRA-DIA-8640f307-2</td>\n",
       "      <td>45.9998</td>\n",
       "      <td>3.4171</td>\n",
       "      <td>0.0743</td>\n",
       "    </tr>\n",
       "    <tr>\n",
       "      <th>2</th>\n",
       "      <td>SIM-SYN-a98e6a07-1</td>\n",
       "      <td>39.4837</td>\n",
       "      <td>2.4818</td>\n",
       "      <td>0.0629</td>\n",
       "    </tr>\n",
       "    <tr>\n",
       "      <th>3</th>\n",
       "      <td>DAV-CRI-f9b12666-9-nitrile</td>\n",
       "      <td>41.7550</td>\n",
       "      <td>3.3404</td>\n",
       "      <td>0.0800</td>\n",
       "    </tr>\n",
       "    <tr>\n",
       "      <th>4</th>\n",
       "      <td>DAV-CRI-f9b12666-8-nitrile</td>\n",
       "      <td>41.1029</td>\n",
       "      <td>3.0534</td>\n",
       "      <td>0.0743</td>\n",
       "    </tr>\n",
       "  </tbody>\n",
       "</table>\n",
       "</div>"
      ],
      "text/plain": [
       "                         Name   Score1  Score2  Score3\n",
       "0          FRA-DIA-8640f307-1  47.7377  4.3646  0.0914\n",
       "1          FRA-DIA-8640f307-2  45.9998  3.4171  0.0743\n",
       "2          SIM-SYN-a98e6a07-1  39.4837  2.4818  0.0629\n",
       "3  DAV-CRI-f9b12666-9-nitrile  41.7550  3.3404  0.0800\n",
       "4  DAV-CRI-f9b12666-8-nitrile  41.1029  3.0534  0.0743"
      ]
     },
     "execution_count": 6,
     "metadata": {},
     "output_type": "execute_result"
    }
   ],
   "source": [
    "xcos_df.head()"
   ]
  },
  {
   "cell_type": "code",
   "execution_count": 31,
   "metadata": {},
   "outputs": [],
   "source": [
    "# Merge two datasets\n",
    "compare_df = pd.merge(xcos_df, frag_df, how='inner', on=['Name', 'Name'])"
   ]
  },
  {
   "cell_type": "code",
   "execution_count": 32,
   "metadata": {},
   "outputs": [
    {
     "data": {
      "text/plain": [
       "7675"
      ]
     },
     "execution_count": 32,
     "metadata": {},
     "output_type": "execute_result"
    }
   ],
   "source": [
    "len(compare_df)"
   ]
  },
  {
   "cell_type": "code",
   "execution_count": 33,
   "metadata": {},
   "outputs": [
    {
     "data": {
      "text/html": [
       "<div>\n",
       "<style scoped>\n",
       "    .dataframe tbody tr th:only-of-type {\n",
       "        vertical-align: middle;\n",
       "    }\n",
       "\n",
       "    .dataframe tbody tr th {\n",
       "        vertical-align: top;\n",
       "    }\n",
       "\n",
       "    .dataframe thead th {\n",
       "        text-align: right;\n",
       "    }\n",
       "</style>\n",
       "<table border=\"1\" class=\"dataframe\">\n",
       "  <thead>\n",
       "    <tr style=\"text-align: right;\">\n",
       "      <th></th>\n",
       "      <th>Name</th>\n",
       "      <th>Score1</th>\n",
       "      <th>Score2</th>\n",
       "      <th>Score3</th>\n",
       "      <th>DeltaG</th>\n",
       "      <th>Rank</th>\n",
       "      <th>comRMSD</th>\n",
       "    </tr>\n",
       "  </thead>\n",
       "  <tbody>\n",
       "    <tr>\n",
       "      <th>0</th>\n",
       "      <td>FRA-DIA-8640f307-1</td>\n",
       "      <td>47.7377</td>\n",
       "      <td>4.3646</td>\n",
       "      <td>0.0914</td>\n",
       "      <td>-15.551701</td>\n",
       "      <td>0.014188</td>\n",
       "      <td>0.62586</td>\n",
       "    </tr>\n",
       "    <tr>\n",
       "      <th>1</th>\n",
       "      <td>FRA-DIA-8640f307-2</td>\n",
       "      <td>45.9998</td>\n",
       "      <td>3.4171</td>\n",
       "      <td>0.0743</td>\n",
       "      <td>-14.355297</td>\n",
       "      <td>0.028377</td>\n",
       "      <td>0.855771</td>\n",
       "    </tr>\n",
       "    <tr>\n",
       "      <th>2</th>\n",
       "      <td>SIM-SYN-a98e6a07-1</td>\n",
       "      <td>39.4837</td>\n",
       "      <td>2.4818</td>\n",
       "      <td>0.0629</td>\n",
       "      <td>-11.046305</td>\n",
       "      <td>0.042565</td>\n",
       "      <td>0.45284</td>\n",
       "    </tr>\n",
       "    <tr>\n",
       "      <th>3</th>\n",
       "      <td>DAV-CRI-f9b12666-9-nitrile</td>\n",
       "      <td>41.7550</td>\n",
       "      <td>3.3404</td>\n",
       "      <td>0.0800</td>\n",
       "      <td>-11.238756</td>\n",
       "      <td>0.056754</td>\n",
       "      <td>0.853052</td>\n",
       "    </tr>\n",
       "    <tr>\n",
       "      <th>4</th>\n",
       "      <td>DAV-CRI-f9b12666-8-nitrile</td>\n",
       "      <td>41.1029</td>\n",
       "      <td>3.0534</td>\n",
       "      <td>0.0743</td>\n",
       "      <td>-12.12691</td>\n",
       "      <td>0.070942</td>\n",
       "      <td>0.753703</td>\n",
       "    </tr>\n",
       "  </tbody>\n",
       "</table>\n",
       "</div>"
      ],
      "text/plain": [
       "                         Name   Score1  Score2  Score3      DeltaG      Rank  \\\n",
       "0          FRA-DIA-8640f307-1  47.7377  4.3646  0.0914  -15.551701  0.014188   \n",
       "1          FRA-DIA-8640f307-2  45.9998  3.4171  0.0743  -14.355297  0.028377   \n",
       "2          SIM-SYN-a98e6a07-1  39.4837  2.4818  0.0629  -11.046305  0.042565   \n",
       "3  DAV-CRI-f9b12666-9-nitrile  41.7550  3.3404  0.0800  -11.238756  0.056754   \n",
       "4  DAV-CRI-f9b12666-8-nitrile  41.1029  3.0534  0.0743   -12.12691  0.070942   \n",
       "\n",
       "    comRMSD  \n",
       "0   0.62586  \n",
       "1  0.855771  \n",
       "2   0.45284  \n",
       "3  0.853052  \n",
       "4  0.753703  "
      ]
     },
     "execution_count": 33,
     "metadata": {},
     "output_type": "execute_result"
    }
   ],
   "source": [
    "compare_df.head()"
   ]
  },
  {
   "cell_type": "code",
   "execution_count": 34,
   "metadata": {},
   "outputs": [],
   "source": [
    "# Need to get rid of nasty nan\n",
    "compare_df = compare_df[~compare_df.DeltaG.str.contains(\"nan\")]\n",
    "compare_df = compare_df[~compare_df.comRMSD.str.contains(\"nan\")]\n",
    "compare_df = compare_df[~compare_df.Rank.str.contains(\"nan\")]"
   ]
  },
  {
   "cell_type": "code",
   "execution_count": 35,
   "metadata": {},
   "outputs": [
    {
     "data": {
      "text/plain": [
       "7048"
      ]
     },
     "execution_count": 35,
     "metadata": {},
     "output_type": "execute_result"
    }
   ],
   "source": [
    "len(compare_df)"
   ]
  },
  {
   "cell_type": "code",
   "execution_count": 36,
   "metadata": {},
   "outputs": [
    {
     "data": {
      "text/plain": [
       "Name       object\n",
       "Score1     object\n",
       "Score2     object\n",
       "Score3     object\n",
       "DeltaG     object\n",
       "Rank       object\n",
       "comRMSD    object\n",
       "dtype: object"
      ]
     },
     "execution_count": 36,
     "metadata": {},
     "output_type": "execute_result"
    }
   ],
   "source": [
    "compare_df.dtypes"
   ]
  },
  {
   "cell_type": "code",
   "execution_count": 37,
   "metadata": {},
   "outputs": [],
   "source": [
    "compare_df.Rank=pd.to_numeric(compare_df.Rank)\n",
    "compare_df.DeltaG=pd.to_numeric(compare_df.DeltaG)\n",
    "compare_df.comRMSD=pd.to_numeric(compare_df.comRMSD)\n",
    "compare_df.Score1=pd.to_numeric(compare_df.Score1)\n",
    "compare_df.Score2=pd.to_numeric(compare_df.Score2)\n",
    "compare_df.Score3=pd.to_numeric(compare_df.Score3)"
   ]
  },
  {
   "cell_type": "code",
   "execution_count": 38,
   "metadata": {},
   "outputs": [
    {
     "data": {
      "text/plain": [
       "Name        object\n",
       "Score1     float64\n",
       "Score2     float64\n",
       "Score3     float64\n",
       "DeltaG     float64\n",
       "Rank       float64\n",
       "comRMSD    float64\n",
       "dtype: object"
      ]
     },
     "execution_count": 38,
     "metadata": {},
     "output_type": "execute_result"
    }
   ],
   "source": [
    "compare_df.dtypes"
   ]
  },
  {
   "cell_type": "code",
   "execution_count": 39,
   "metadata": {},
   "outputs": [
    {
     "data": {
      "text/plain": [
       "array([[ 1.        , -0.14466741],\n",
       "       [-0.14466741,  1.        ]])"
      ]
     },
     "execution_count": 39,
     "metadata": {},
     "output_type": "execute_result"
    }
   ],
   "source": [
    "# Corr when all the data is used?\n",
    "np.corrcoef(compare_df.Score1,compare_df.Rank)"
   ]
  },
  {
   "cell_type": "code",
   "execution_count": 40,
   "metadata": {},
   "outputs": [],
   "source": [
    "# Let's only llok at Delta G values less than 0\n",
    "compare_df = compare_df[compare_df['Score1']>30]"
   ]
  },
  {
   "cell_type": "code",
   "execution_count": 41,
   "metadata": {},
   "outputs": [
    {
     "data": {
      "text/plain": [
       "array([[ 1.        , -0.11960136],\n",
       "       [-0.11960136,  1.        ]])"
      ]
     },
     "execution_count": 41,
     "metadata": {},
     "output_type": "execute_result"
    }
   ],
   "source": [
    "# Corr when top ranking data is used?\n",
    "np.corrcoef(compare_df.Score1,compare_df.Rank)"
   ]
  },
  {
   "cell_type": "code",
   "execution_count": 42,
   "metadata": {},
   "outputs": [
    {
     "data": {
      "text/plain": [
       "<matplotlib.axes._subplots.AxesSubplot at 0x7fe730da51d0>"
      ]
     },
     "execution_count": 42,
     "metadata": {},
     "output_type": "execute_result"
    },
    {
     "data": {
      "image/png": "[encoded data removed]",
      "text/plain": [
       "<Figure size 432x288 with 1 Axes>"
      ]
     },
     "metadata": {
      "needs_background": "light"
     },
     "output_type": "display_data"
    }
   ],
   "source": [
    "# Compare delat G tp Score1\n",
    "compare_df.plot(x='Score1', y='Rank', style='o')"
   ]
  },
  {
   "cell_type": "code",
   "execution_count": null,
   "metadata": {},
   "outputs": [],
   "source": []
  },
  {
   "cell_type": "code",
   "execution_count": null,
   "metadata": {},
   "outputs": [],
   "source": []
  }
 ],
 "metadata": {
  "kernelspec": {
   "display_name": "Python 3",
   "language": "python",
   "name": "python3"
  },
  "language_info": {
   "codemirror_mode": {
    "name": "ipython",
    "version": 3
   },
   "file_extension": ".py",
   "mimetype": "text/x-python",
   "name": "python",
   "nbconvert_exporter": "python",
   "pygments_lexer": "ipython3",
   "version": "3.6.10"
  }
 },
 "nbformat": 4,
 "nbformat_minor": 4
}

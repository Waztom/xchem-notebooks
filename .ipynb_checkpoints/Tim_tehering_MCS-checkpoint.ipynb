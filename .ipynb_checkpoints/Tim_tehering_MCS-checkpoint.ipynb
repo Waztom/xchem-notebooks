{
 "cells": [
  {
   "cell_type": "markdown",
   "metadata": {},
   "source": [
    "# Example of doing constrained conformer generation\n",
    "## And an example of where if goes wrong"
   ]
  },
  {
   "cell_type": "code",
   "execution_count": 1,
   "metadata": {},
   "outputs": [],
   "source": [
    "from rdkit import Chem\n",
    "from rdkit.Chem import AllChem\n",
    "from rdkit.Chem import rdFMCS"
   ]
  },
  {
   "cell_type": "code",
   "execution_count": 12,
   "metadata": {},
   "outputs": [],
   "source": [
    "# This is the function that defines the tethered atoms and does the constraind embedding\n",
    "# I don't fully understand what's going on with the ReplaceSidechains, DeleteSubstructs and UpdatePropertyCache\n",
    "# methods. This is just code I found that on the internet seems to (mostly) work!\n",
    "#\n",
    "# For more information see http://rdkit.blogspot.com/2013/12/using-allchemconstrainedembed.html\n",
    "\n",
    "def tether_mol_v1(tether, mol):\n",
    "    mcs = rdFMCS.FindMCS([tether, mol], completeRingsOnly=True, matchValences=True)\n",
    "    print('smarts:', mcs.smartsString)\n",
    "    replaced = AllChem.ReplaceSidechains(tether, mcs.queryMol)\n",
    "    core = AllChem.DeleteSubstructs(replaced, Chem.MolFromSmiles('*'))\n",
    "    core.UpdatePropertyCache()\n",
    "    molh = Chem.AddHs(mol)\n",
    "    AllChem.ConstrainedEmbed(molh, core)\n",
    "    return molh"
   ]
  },
  {
   "cell_type": "code",
   "execution_count": 13,
   "metadata": {},
   "outputs": [],
   "source": [
    "def mol_with_atom_index(mol):\n",
    "    for atom in mol.GetAtoms():\n",
    "        atom.SetAtomMapNum(atom.GetIdx())\n",
    "    return mol"
   ]
  },
  {
   "cell_type": "code",
   "execution_count": 14,
   "metadata": {},
   "outputs": [
    {
     "name": "stdout",
     "output_type": "stream",
     "text": [
      "CS(=O)(=O)NCCc1ccccc1\n"
     ]
    },
    {
     "data": {
      "text/plain": [
       "<rdkit.Chem.rdchem.Mol at 0x7f9554499760>"
      ]
     },
     "execution_count": 14,
     "metadata": {},
     "output_type": "execute_result"
    }
   ],
   "source": [
    "# read the molecule to use as the tether\n",
    "tether = Chem.MolFromMolFile('data/Mpro-x0072.mol')\n",
    "print(Chem.MolToSmiles(tether))\n",
    "tether"
   ]
  },
  {
   "cell_type": "code",
   "execution_count": 15,
   "metadata": {},
   "outputs": [
    {
     "data": {
      "text/plain": [
       "<rdkit.Chem.rdchem.Mol at 0x7f9554499800>"
      ]
     },
     "execution_count": 15,
     "metadata": {},
     "output_type": "execute_result"
    }
   ],
   "source": [
    "# here it is in 2D which is clearer \n",
    "t = Chem.MolFromSmiles('CS(=O)(=O)NCCc1ccccc1')\n",
    "t"
   ]
  },
  {
   "cell_type": "code",
   "execution_count": 16,
   "metadata": {},
   "outputs": [
    {
     "data": {
      "text/plain": [
       "<rdkit.Chem.rdchem.Mol at 0x7f9554499c10>"
      ]
     },
     "execution_count": 16,
     "metadata": {},
     "output_type": "execute_result"
    }
   ],
   "source": [
    "# this is an example where it works\n",
    "ligand = Chem.MolFromSmiles('CCOC(=O)c1ccccc1')\n",
    "ligand"
   ]
  },
  {
   "cell_type": "code",
   "execution_count": 18,
   "metadata": {},
   "outputs": [],
   "source": [
    "mcs = rdFMCS.FindMCS([tether, ligand], completeRingsOnly=True, matchValences=True)"
   ]
  },
  {
   "cell_type": "code",
   "execution_count": 20,
   "metadata": {},
   "outputs": [
    {
     "data": {
      "text/plain": [
       "'[#6]-[#6]1:[#6]:[#6]:[#6]:[#6]:[#6]:1'"
      ]
     },
     "execution_count": 20,
     "metadata": {},
     "output_type": "execute_result"
    }
   ],
   "source": [
    "mcs.smartsString"
   ]
  },
  {
   "cell_type": "code",
   "execution_count": 17,
   "metadata": {},
   "outputs": [
    {
     "name": "stdout",
     "output_type": "stream",
     "text": [
      "smarts: [#6]-[#6]1:[#6]:[#6]:[#6]:[#6]:[#6]:1\n"
     ]
    },
    {
     "ename": "AttributeError",
     "evalue": "'MCSResult' object has no attribute 'queryMol'",
     "output_type": "error",
     "traceback": [
      "\u001b[0;31m----------------------------------------------------------------------\u001b[0m",
      "\u001b[0;31mAttributeError\u001b[0m                       Traceback (most recent call last)",
      "\u001b[0;32m<ipython-input-17-db3c23a84334>\u001b[0m in \u001b[0;36m<module>\u001b[0;34m\u001b[0m\n\u001b[1;32m      1\u001b[0m \u001b[0;31m# the MCS is toluene which is correct. Those atoms get fixed.\u001b[0m\u001b[0;34m\u001b[0m\u001b[0;34m\u001b[0m\u001b[0;34m\u001b[0m\u001b[0m\n\u001b[1;32m      2\u001b[0m \u001b[0;31m# Nice that RDKit automatically highlights the MCS!\u001b[0m\u001b[0;34m\u001b[0m\u001b[0;34m\u001b[0m\u001b[0;34m\u001b[0m\u001b[0m\n\u001b[0;32m----> 3\u001b[0;31m \u001b[0mmol\u001b[0m \u001b[0;34m=\u001b[0m \u001b[0mtether_mol_v1\u001b[0m\u001b[0;34m(\u001b[0m\u001b[0mtether\u001b[0m\u001b[0;34m,\u001b[0m \u001b[0mligand\u001b[0m\u001b[0;34m)\u001b[0m\u001b[0;34m\u001b[0m\u001b[0;34m\u001b[0m\u001b[0m\n\u001b[0m\u001b[1;32m      4\u001b[0m \u001b[0mmol\u001b[0m\u001b[0;34m\u001b[0m\u001b[0;34m\u001b[0m\u001b[0m\n",
      "\u001b[0;32m<ipython-input-12-e917baf04cb9>\u001b[0m in \u001b[0;36mtether_mol_v1\u001b[0;34m(tether, mol)\u001b[0m\n\u001b[1;32m      8\u001b[0m     \u001b[0mmcs\u001b[0m \u001b[0;34m=\u001b[0m \u001b[0mrdFMCS\u001b[0m\u001b[0;34m.\u001b[0m\u001b[0mFindMCS\u001b[0m\u001b[0;34m(\u001b[0m\u001b[0;34m[\u001b[0m\u001b[0mtether\u001b[0m\u001b[0;34m,\u001b[0m \u001b[0mmol\u001b[0m\u001b[0;34m]\u001b[0m\u001b[0;34m,\u001b[0m \u001b[0mcompleteRingsOnly\u001b[0m\u001b[0;34m=\u001b[0m\u001b[0;32mTrue\u001b[0m\u001b[0;34m,\u001b[0m \u001b[0mmatchValences\u001b[0m\u001b[0;34m=\u001b[0m\u001b[0;32mTrue\u001b[0m\u001b[0;34m)\u001b[0m\u001b[0;34m\u001b[0m\u001b[0;34m\u001b[0m\u001b[0m\n\u001b[1;32m      9\u001b[0m     \u001b[0mprint\u001b[0m\u001b[0;34m(\u001b[0m\u001b[0;34m'smarts:'\u001b[0m\u001b[0;34m,\u001b[0m \u001b[0mmcs\u001b[0m\u001b[0;34m.\u001b[0m\u001b[0msmartsString\u001b[0m\u001b[0;34m)\u001b[0m\u001b[0;34m\u001b[0m\u001b[0;34m\u001b[0m\u001b[0m\n\u001b[0;32m---> 10\u001b[0;31m     \u001b[0mreplaced\u001b[0m \u001b[0;34m=\u001b[0m \u001b[0mAllChem\u001b[0m\u001b[0;34m.\u001b[0m\u001b[0mReplaceSidechains\u001b[0m\u001b[0;34m(\u001b[0m\u001b[0mtether\u001b[0m\u001b[0;34m,\u001b[0m \u001b[0mmcs\u001b[0m\u001b[0;34m.\u001b[0m\u001b[0mqueryMol\u001b[0m\u001b[0;34m)\u001b[0m\u001b[0;34m\u001b[0m\u001b[0;34m\u001b[0m\u001b[0m\n\u001b[0m\u001b[1;32m     11\u001b[0m     \u001b[0mcore\u001b[0m \u001b[0;34m=\u001b[0m \u001b[0mAllChem\u001b[0m\u001b[0;34m.\u001b[0m\u001b[0mDeleteSubstructs\u001b[0m\u001b[0;34m(\u001b[0m\u001b[0mreplaced\u001b[0m\u001b[0;34m,\u001b[0m \u001b[0mChem\u001b[0m\u001b[0;34m.\u001b[0m\u001b[0mMolFromSmiles\u001b[0m\u001b[0;34m(\u001b[0m\u001b[0;34m'*'\u001b[0m\u001b[0;34m)\u001b[0m\u001b[0;34m)\u001b[0m\u001b[0;34m\u001b[0m\u001b[0;34m\u001b[0m\u001b[0m\n\u001b[1;32m     12\u001b[0m     \u001b[0mcore\u001b[0m\u001b[0;34m.\u001b[0m\u001b[0mUpdatePropertyCache\u001b[0m\u001b[0;34m(\u001b[0m\u001b[0;34m)\u001b[0m\u001b[0;34m\u001b[0m\u001b[0;34m\u001b[0m\u001b[0m\n",
      "\u001b[0;31mAttributeError\u001b[0m: 'MCSResult' object has no attribute 'queryMol'"
     ]
    }
   ],
   "source": [
    "# the MCS is toluene which is correct. Those atoms get fixed.\n",
    "# Nice that RDKit automatically highlights the MCS!\n",
    "mol = tether_mol_v1(tether, ligand)\n",
    "mol"
   ]
  },
  {
   "cell_type": "code",
   "execution_count": 8,
   "metadata": {},
   "outputs": [
    {
     "data": {
      "image/png": "[encoded data removed]",
      "text/plain": [
       "<rdkit.Chem.rdchem.Mol at 0x7f11c60cb300>"
      ]
     },
     "execution_count": 8,
     "metadata": {},
     "output_type": "execute_result"
    }
   ],
   "source": [
    "mol_with_atom_index(mol)"
   ]
  },
  {
   "cell_type": "code",
   "execution_count": 9,
   "metadata": {},
   "outputs": [
    {
     "data": {
      "image/png": "[encoded data removed]",
      "text/plain": [
       "<rdkit.Chem.rdchem.Mol at 0x7f11c60cb800>"
      ]
     },
     "execution_count": 9,
     "metadata": {},
     "output_type": "execute_result"
    }
   ],
   "source": [
    "# And now an example where it goes wrong. The MCS should be based around the sulphonamide\n",
    "ligand = Chem.MolFromSmiles('CCNS(=O)(=O)CC12CCC(CC1)C2')\n",
    "ligand"
   ]
  },
  {
   "cell_type": "code",
   "execution_count": 10,
   "metadata": {},
   "outputs": [
    {
     "name": "stdout",
     "output_type": "stream",
     "text": [
      "smarts: [#6]-&!@[#6]1:,-;@[#6]:,-;@[#6]:,-;@[#6]:,-;@[#6]:,-;@[#6]:,-;@1\n"
     ]
    },
    {
     "ename": "ValueError",
     "evalue": "molecule doesn't match the core",
     "output_type": "error",
     "traceback": [
      "\u001b[0;31m---------------------------------------------------------------------------\u001b[0m",
      "\u001b[0;31mValueError\u001b[0m                                Traceback (most recent call last)",
      "\u001b[0;32m<ipython-input-10-b90b849c9197>\u001b[0m in \u001b[0;36m<module>\u001b[0;34m\u001b[0m\n\u001b[1;32m      1\u001b[0m \u001b[0;31m# but clearly the MCS is not correct and the constrained embedding goes horribly wrong.\u001b[0m\u001b[0;34m\u001b[0m\u001b[0;34m\u001b[0m\u001b[0;34m\u001b[0m\u001b[0m\n\u001b[0;32m----> 2\u001b[0;31m \u001b[0mmol\u001b[0m \u001b[0;34m=\u001b[0m \u001b[0mtether_mol_v1\u001b[0m\u001b[0;34m(\u001b[0m\u001b[0mtether\u001b[0m\u001b[0;34m,\u001b[0m \u001b[0mligand\u001b[0m\u001b[0;34m)\u001b[0m\u001b[0;34m\u001b[0m\u001b[0;34m\u001b[0m\u001b[0m\n\u001b[0m\u001b[1;32m      3\u001b[0m \u001b[0mmol\u001b[0m\u001b[0;34m\u001b[0m\u001b[0;34m\u001b[0m\u001b[0m\n",
      "\u001b[0;32m<ipython-input-2-091f72b04ec2>\u001b[0m in \u001b[0;36mtether_mol_v1\u001b[0;34m(tether, mol)\u001b[0m\n\u001b[1;32m     12\u001b[0m     \u001b[0mcore\u001b[0m\u001b[0;34m.\u001b[0m\u001b[0mUpdatePropertyCache\u001b[0m\u001b[0;34m(\u001b[0m\u001b[0;34m)\u001b[0m\u001b[0;34m\u001b[0m\u001b[0;34m\u001b[0m\u001b[0m\n\u001b[1;32m     13\u001b[0m     \u001b[0mmolh\u001b[0m \u001b[0;34m=\u001b[0m \u001b[0mChem\u001b[0m\u001b[0;34m.\u001b[0m\u001b[0mAddHs\u001b[0m\u001b[0;34m(\u001b[0m\u001b[0mligand\u001b[0m\u001b[0;34m)\u001b[0m\u001b[0;34m\u001b[0m\u001b[0;34m\u001b[0m\u001b[0m\n\u001b[0;32m---> 14\u001b[0;31m     \u001b[0mAllChem\u001b[0m\u001b[0;34m.\u001b[0m\u001b[0mConstrainedEmbed\u001b[0m\u001b[0;34m(\u001b[0m\u001b[0mmolh\u001b[0m\u001b[0;34m,\u001b[0m \u001b[0mcore\u001b[0m\u001b[0;34m)\u001b[0m\u001b[0;34m\u001b[0m\u001b[0;34m\u001b[0m\u001b[0m\n\u001b[0m\u001b[1;32m     15\u001b[0m     \u001b[0;32mreturn\u001b[0m \u001b[0mmolh\u001b[0m\u001b[0;34m\u001b[0m\u001b[0;34m\u001b[0m\u001b[0m\n",
      "\u001b[0;32m~/miniconda3/envs/jupyter-xchem/lib/python3.8/site-packages/rdkit/Chem/AllChem.py\u001b[0m in \u001b[0;36mConstrainedEmbed\u001b[0;34m(mol, core, useTethers, coreConfId, randomseed, getForceField, **kwargs)\u001b[0m\n\u001b[1;32m    301\u001b[0m     \u001b[0mmatch\u001b[0m \u001b[0;34m=\u001b[0m \u001b[0mmol\u001b[0m\u001b[0;34m.\u001b[0m\u001b[0mGetSubstructMatch\u001b[0m\u001b[0;34m(\u001b[0m\u001b[0mcore\u001b[0m\u001b[0;34m)\u001b[0m\u001b[0;34m\u001b[0m\u001b[0;34m\u001b[0m\u001b[0m\n\u001b[1;32m    302\u001b[0m     \u001b[0;32mif\u001b[0m \u001b[0;32mnot\u001b[0m \u001b[0mmatch\u001b[0m\u001b[0;34m:\u001b[0m\u001b[0;34m\u001b[0m\u001b[0;34m\u001b[0m\u001b[0m\n\u001b[0;32m--> 303\u001b[0;31m         \u001b[0;32mraise\u001b[0m \u001b[0mValueError\u001b[0m\u001b[0;34m(\u001b[0m\u001b[0;34m\"molecule doesn't match the core\"\u001b[0m\u001b[0;34m)\u001b[0m\u001b[0;34m\u001b[0m\u001b[0;34m\u001b[0m\u001b[0m\n\u001b[0m\u001b[1;32m    304\u001b[0m     \u001b[0mcoordMap\u001b[0m \u001b[0;34m=\u001b[0m \u001b[0;34m{\u001b[0m\u001b[0;34m}\u001b[0m\u001b[0;34m\u001b[0m\u001b[0;34m\u001b[0m\u001b[0m\n\u001b[1;32m    305\u001b[0m     \u001b[0mcoreConf\u001b[0m \u001b[0;34m=\u001b[0m \u001b[0mcore\u001b[0m\u001b[0;34m.\u001b[0m\u001b[0mGetConformer\u001b[0m\u001b[0;34m(\u001b[0m\u001b[0mcoreConfId\u001b[0m\u001b[0;34m)\u001b[0m\u001b[0;34m\u001b[0m\u001b[0;34m\u001b[0m\u001b[0m\n",
      "\u001b[0;31mValueError\u001b[0m: molecule doesn't match the core"
     ]
    }
   ],
   "source": [
    "# but clearly the MCS is not correct and the constrained embedding goes horribly wrong.\n",
    "mol = tether_mol_v1(tether, ligand)\n",
    "mol"
   ]
  },
  {
   "cell_type": "code",
   "execution_count": 11,
   "metadata": {},
   "outputs": [],
   "source": [
    "# the problem was how the bonds were being compared.\n",
    "# If we use the bondCompare=rdFMCS.BondCompare.CompareOrderExact then the bonds must\n",
    "# match exactly and things work as expected. Without this (bondCompare=CompareOrder is the default)\n",
    "# aromatic and aliphatic rings match which results in the strange cage-like ring structure on the left \n",
    "# matching and giving a bigger MCS that the sulphonamide group.\n",
    "\n",
    "GetFF=lambda x,confId=-1:AllChem.MMFFGetMoleculeForceField(x,AllChem.MMFFGetMoleculeProperties(x),confId=confId)\n",
    "\n",
    "def tether_mol_v2(tether, mol):\n",
    "    mcs = rdFMCS.FindMCS([tether, mol], completeRingsOnly=True, matchValences=True,\n",
    "                                         bondCompare=rdFMCS.BondCompare.CompareOrderExact)\n",
    "    print('smarts:', mcs.smartsString)\n",
    "\n",
    "    # Creating core of reference ligand #\n",
    "    smarts = Chem.MolFromSmarts(mcs.smartsString)\n",
    "    replaced = AllChem.ReplaceSidechains(tether, smarts)\n",
    "    core = AllChem.DeleteSubstructs(replaced, Chem.MolFromSmiles('*'))\n",
    "    core.UpdatePropertyCache()\n",
    "    molh = Chem.AddHs(ligand)\n",
    "    AllChem.ConstrainedEmbed(molh, core, getForceField=GetFF)\n",
    "    return molh"
   ]
  },
  {
   "cell_type": "code",
   "execution_count": 12,
   "metadata": {},
   "outputs": [
    {
     "name": "stdout",
     "output_type": "stream",
     "text": [
      "smarts: [#16](-&!@[#6])(=&!@[#8])(=&!@[#8])-&!@[#7]-&!@[#6]-&!@[#6]\n"
     ]
    },
    {
     "data": {
      "image/png": "[encoded data removed]",
      "text/plain": [
       "<rdkit.Chem.rdchem.Mol at 0x7f11c5eddee0>"
      ]
     },
     "execution_count": 12,
     "metadata": {},
     "output_type": "execute_result"
    }
   ],
   "source": [
    "# Now we have the MCS we expect\n",
    "mol = tether_mol_v2(tether, ligand)\n",
    "mol"
   ]
  },
  {
   "cell_type": "code",
   "execution_count": null,
   "metadata": {},
   "outputs": [],
   "source": []
  }
 ],
 "metadata": {
  "kernelspec": {
   "display_name": "Python 3",
   "language": "python",
   "name": "python3"
  },
  "language_info": {
   "codemirror_mode": {
    "name": "ipython",
    "version": 3
   },
   "file_extension": ".py",
   "mimetype": "text/x-python",
   "name": "python",
   "nbconvert_exporter": "python",
   "pygments_lexer": "ipython3",
   "version": "3.6.10"
  }
 },
 "nbformat": 4,
 "nbformat_minor": 4
}

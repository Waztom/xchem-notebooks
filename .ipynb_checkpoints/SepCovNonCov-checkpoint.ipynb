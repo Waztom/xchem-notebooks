{
 "cells": [
  {
   "cell_type": "markdown",
   "metadata": {},
   "source": [
    "# Script to separate covalent and non-covalent fragment .mol files "
   ]
  },
  {
   "cell_type": "code",
   "execution_count": 14,
   "metadata": {},
   "outputs": [],
   "source": [
    "import os\n",
    "from rdkit import Chem\n",
    "import re\n",
    "import pandas as pd\n",
    "\n",
    "def getMolFiles(in_directory, mpro_sum_df):\n",
    "    '''\n",
    "    in_directory: Is the directory path to the files found in the Fragprep folder\n",
    "                  on the DLS server\n",
    "    mpro_sum_df : Is a Pandas df of the XChem summary found at \n",
    "                  https://www.diamond.ac.uk/covid-19/for-scientists/Main-protease-structure-and-XChem/Downloads.html\n",
    "    \n",
    "    The function walks through the in_directory and finds .mol files and filters/writes them \n",
    "    into covalent & non-covalent data directories by comparing the fragment name and Site information in\n",
    "    the XChem summary\n",
    "    '''\n",
    "    for subdir, dirs, files in os.walk(in_directory):\n",
    "        for file in files:\n",
    "            filepath = subdir + os.sep + file\n",
    "            if filepath.endswith(\".mol\"):\n",
    "                frag_name = re.sub('_0.mol', '', file)\n",
    "                if all(mpro_sum_df[mpro_sum_df['Dataset'] == frag_name].Site == \"A - active\"):\n",
    "                    mol = Chem.MolFromMolFile(filepath, sanitize=True)\n",
    "                    mol.SetProp(\"_Name\",frag_name)\n",
    "                    w = Chem.SDWriter('out_data/non-cov_frags/{}.mol'.format(frag_name))\n",
    "                    w.write(mol)\n",
    "                if all(mpro_sum_df[mpro_sum_df['Dataset'] == frag_name].Site == \"B - active - covalent\"):\n",
    "                    mol = Chem.MolFromMolFile(filepath, sanitize=True)\n",
    "                    mol.SetProp(\"_Name\",frag_name)\n",
    "                    w = Chem.SDWriter('out_data/cov_frags/{}.mol'.format(frag_name))\n",
    "                    w.write(mol)                 "
   ]
  },
  {
   "cell_type": "code",
   "execution_count": 15,
   "metadata": {},
   "outputs": [],
   "source": [
    "# Read in the Mpro screening summary\n",
    "mpro_sum_df = pd.read_excel(\"in_data/Mpro full XChem screen - hits summary - ver-2020-05-16.xlsx\") "
   ]
  },
  {
   "cell_type": "code",
   "execution_count": 16,
   "metadata": {},
   "outputs": [],
   "source": [
    "# Let's sort the frags into a covalent and non-covalent folders\n",
    "getMolFiles(\"in_data/Mpro_frags\", mpro_sum_df)"
   ]
  }
 ],
 "metadata": {
  "kernelspec": {
   "display_name": "Python 3",
   "language": "python",
   "name": "python3"
  },
  "language_info": {
   "codemirror_mode": {
    "name": "ipython",
    "version": 3
   },
   "file_extension": ".py",
   "mimetype": "text/x-python",
   "name": "python",
   "nbconvert_exporter": "python",
   "pygments_lexer": "ipython3",
   "version": "3.6.10"
  }
 },
 "nbformat": 4,
 "nbformat_minor": 4
}

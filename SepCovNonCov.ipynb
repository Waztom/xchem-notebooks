{
 "cells": [
  {
   "cell_type": "markdown",
   "metadata": {},
   "source": [
    "# Script to separate covalent and non-covalent fragment .mol files "
   ]
  },
  {
   "cell_type": "code",
   "execution_count": 163,
   "metadata": {},
   "outputs": [],
   "source": [
    "import os\n",
    "from rdkit import Chem\n",
    "import re\n",
    "import pandas as pd\n",
    "\n",
    "def getMolFiles(in_directory, mpro_sum_df):\n",
    "    for subdir, dirs, files in os.walk(in_directory):\n",
    "        for file in files:\n",
    "            filepath = subdir + os.sep + file\n",
    "            if filepath.endswith(\".mol\"):\n",
    "                frag_name = re.sub('_0.mol', '', file)\n",
    "                test_df = mpro_sum_df[mpro_sum_df['Dataset'].str.contains(frag_name)]\n",
    "                site_name = test_df[\"Site\"].to_string(index=False).strip()\n",
    "                if site_name == \"A - active\":\n",
    "                    mol = Chem.MolFromMolFile(filepath, sanitize=True)\n",
    "                    mol.SetProp(\"_Name\",frag_name)\n",
    "                    w = Chem.SDWriter('data/non-cov_frags/{}.mol'.format(frag_name))\n",
    "                    w.write(mol)\n",
    "                if site_name == \"B - active - covalent\":\n",
    "                    mol = Chem.MolFromMolFile(filepath, sanitize=True)\n",
    "                    mol.SetProp(\"_Name\",frag_name)\n",
    "                    w = Chem.SDWriter('data/cov_frags/{}.mol'.format(frag_name))\n",
    "                    w.write(mol)                 "
   ]
  },
  {
   "cell_type": "code",
   "execution_count": 164,
   "metadata": {},
   "outputs": [],
   "source": [
    "# Read in the Mpro screening summary\n",
    "mpro_sum_df = pd.read_excel(\"data/Mpro full XChem screen - hits summary - ver-2020-05-16.xlsx\") "
   ]
  },
  {
   "cell_type": "code",
   "execution_count": 165,
   "metadata": {},
   "outputs": [],
   "source": [
    "# Let's sort the frags into a covalent and non-covalent folders\n",
    "getMolFiles(\"data/Mpro_frags\", mpro_sum_df)"
   ]
  }
 ],
 "metadata": {
  "kernelspec": {
   "display_name": "Python 3",
   "language": "python",
   "name": "python3"
  },
  "language_info": {
   "codemirror_mode": {
    "name": "ipython",
    "version": 3
   },
   "file_extension": ".py",
   "mimetype": "text/x-python",
   "name": "python",
   "nbconvert_exporter": "python",
   "pygments_lexer": "ipython3",
   "version": "3.6.10"
  }
 },
 "nbformat": 4,
 "nbformat_minor": 4
}
